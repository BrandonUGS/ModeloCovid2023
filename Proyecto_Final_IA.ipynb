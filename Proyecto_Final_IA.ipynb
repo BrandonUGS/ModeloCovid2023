{
  "nbformat": 4,
  "nbformat_minor": 0,
  "metadata": {
    "colab": {
      "provenance": [],
      "gpuType": "T4",
      "authorship_tag": "ABX9TyPPlzSflkbEFLQSQw/JxaMK",
      "include_colab_link": true
    },
    "kernelspec": {
      "name": "python3",
      "display_name": "Python 3"
    },
    "language_info": {
      "name": "python"
    },
    "accelerator": "GPU"
  },
  "cells": [
    {
      "cell_type": "markdown",
      "metadata": {
        "id": "view-in-github",
        "colab_type": "text"
      },
      "source": [
        "<a href=\"https://colab.research.google.com/github/BrandonUGS/ModeloCovid2023/blob/main/Proyecto_Final_IA.ipynb\" target=\"_parent\"><img src=\"https://colab.research.google.com/assets/colab-badge.svg\" alt=\"Open In Colab\"/></a>"
      ]
    },
    {
      "cell_type": "code",
      "source": [
        "# This get the RAPIDS-Colab install files and test check your GPU.  Run this and the next cell only.\n",
        "# Please read the output of this cell.  If your Colab Instance is not RAPIDS compatible, it will warn you and give you remediation steps.\n",
        "!git clone https://github.com/rapidsai/rapidsai-csp-utils.git\n",
        "!python rapidsai-csp-utils/colab/pip-install.py"
      ],
      "metadata": {
        "colab": {
          "base_uri": "https://localhost:8080/"
        },
        "id": "5wj8UUMTnnDn",
        "outputId": "e19b3a7d-6d2b-4f09-b767-19f60a9471ff"
      },
      "execution_count": null,
      "outputs": [
        {
          "output_type": "stream",
          "name": "stdout",
          "text": [
            "fatal: destination path 'rapidsai-csp-utils' already exists and is not an empty directory.\n",
            "Traceback (most recent call last):\n",
            "  File \"/content/rapidsai-csp-utils/colab/pip-install.py\", line 28, in <module>\n",
            "    if ('K80' not in gpu_name):\n",
            "TypeError: a bytes-like object is required, not 'str'\n"
          ]
        }
      ]
    },
    {
      "cell_type": "code",
      "execution_count": null,
      "metadata": {
        "colab": {
          "base_uri": "https://localhost:8080/"
        },
        "id": "tnEtf0UHAVhM",
        "outputId": "e76d0cfb-193c-401c-9dd8-84051865f3f0"
      },
      "outputs": [
        {
          "output_type": "stream",
          "name": "stdout",
          "text": [
            "--2023-11-12 19:43:16--  https://datosabiertos.salud.gob.mx/gobmx/salud/datos_abiertos/datos_abiertos_covid19.zip\n",
            "Resolving datosabiertos.salud.gob.mx (datosabiertos.salud.gob.mx)... 201.98.60.146\n",
            "Connecting to datosabiertos.salud.gob.mx (datosabiertos.salud.gob.mx)|201.98.60.146|:443... connected.\n",
            "HTTP request sent, awaiting response... 200 OK\n",
            "Length: 18045440 (17M) [application/x-zip-compressed]\n",
            "Saving to: ‘datos_abiertos_covid19.zip.2’\n",
            "\n",
            "datos_abiertos_covi 100%[===================>]  17.21M  7.25MB/s    in 2.4s    \n",
            "\n",
            "2023-11-12 19:43:19 (7.25 MB/s) - ‘datos_abiertos_covid19.zip.2’ saved [18045440/18045440]\n",
            "\n"
          ]
        }
      ],
      "source": [
        "!wget https://datosabiertos.salud.gob.mx/gobmx/salud/datos_abiertos/datos_abiertos_covid19.zip"
      ]
    },
    {
      "cell_type": "code",
      "source": [
        "!unzip /content/datos_abiertos_covid19.zip"
      ],
      "metadata": {
        "colab": {
          "base_uri": "https://localhost:8080/"
        },
        "id": "nr9lYyu6Lpc8",
        "outputId": "895ab996-5621-45d7-ff4a-2a0b7e9b116e"
      },
      "execution_count": null,
      "outputs": [
        {
          "output_type": "stream",
          "name": "stdout",
          "text": [
            "Archive:  /content/datos_abiertos_covid19.zip\n",
            "  inflating: COVID19MEXICO.csv       \n"
          ]
        }
      ]
    },
    {
      "cell_type": "code",
      "source": [
        "import numpy as np\n",
        "import pandas as pd\n",
        "\n",
        "\n",
        "data = pd.read_csv('COVID19MEXICO.csv')\n",
        "data.columns"
      ],
      "metadata": {
        "colab": {
          "base_uri": "https://localhost:8080/"
        },
        "id": "fUB7gfT1ME59",
        "outputId": "696a84ee-6f10-4053-9fc4-db761846f916"
      },
      "execution_count": null,
      "outputs": [
        {
          "output_type": "execute_result",
          "data": {
            "text/plain": [
              "Index(['FECHA_ACTUALIZACION', 'ID_REGISTRO', 'ORIGEN', 'SECTOR', 'ENTIDAD_UM',\n",
              "       'SEXO', 'ENTIDAD_NAC', 'ENTIDAD_RES', 'MUNICIPIO_RES', 'TIPO_PACIENTE',\n",
              "       'FECHA_INGRESO', 'FECHA_SINTOMAS', 'FECHA_DEF', 'INTUBADO', 'NEUMONIA',\n",
              "       'EDAD', 'NACIONALIDAD', 'EMBARAZO', 'HABLA_LENGUA_INDIG', 'INDIGENA',\n",
              "       'DIABETES', 'EPOC', 'ASMA', 'INMUSUPR', 'HIPERTENSION', 'OTRA_COM',\n",
              "       'CARDIOVASCULAR', 'OBESIDAD', 'RENAL_CRONICA', 'TABAQUISMO',\n",
              "       'OTRO_CASO', 'TOMA_MUESTRA_LAB', 'RESULTADO_LAB',\n",
              "       'TOMA_MUESTRA_ANTIGENO', 'RESULTADO_ANTIGENO', 'CLASIFICACION_FINAL',\n",
              "       'MIGRANTE', 'PAIS_NACIONALIDAD', 'PAIS_ORIGEN', 'UCI'],\n",
              "      dtype='object')"
            ]
          },
          "metadata": {},
          "execution_count": 2
        }
      ]
    },
    {
      "cell_type": "code",
      "source": [
        "data.info()"
      ],
      "metadata": {
        "colab": {
          "base_uri": "https://localhost:8080/"
        },
        "id": "eo2ntvV5MZmg",
        "outputId": "0eb12295-85bd-4f13-ec57-00abc92becfd"
      },
      "execution_count": null,
      "outputs": [
        {
          "output_type": "stream",
          "name": "stdout",
          "text": [
            "<class 'pandas.core.frame.DataFrame'>\n",
            "RangeIndex: 1186694 entries, 0 to 1186693\n",
            "Data columns (total 40 columns):\n",
            " #   Column                 Non-Null Count    Dtype \n",
            "---  ------                 --------------    ----- \n",
            " 0   FECHA_ACTUALIZACION    1186694 non-null  object\n",
            " 1   ID_REGISTRO            1186694 non-null  object\n",
            " 2   ORIGEN                 1186694 non-null  int64 \n",
            " 3   SECTOR                 1186694 non-null  int64 \n",
            " 4   ENTIDAD_UM             1186694 non-null  int64 \n",
            " 5   SEXO                   1186694 non-null  int64 \n",
            " 6   ENTIDAD_NAC            1186694 non-null  int64 \n",
            " 7   ENTIDAD_RES            1186694 non-null  int64 \n",
            " 8   MUNICIPIO_RES          1186694 non-null  int64 \n",
            " 9   TIPO_PACIENTE          1186694 non-null  int64 \n",
            " 10  FECHA_INGRESO          1186694 non-null  object\n",
            " 11  FECHA_SINTOMAS         1186694 non-null  object\n",
            " 12  FECHA_DEF              1186694 non-null  object\n",
            " 13  INTUBADO               1186694 non-null  int64 \n",
            " 14  NEUMONIA               1186694 non-null  int64 \n",
            " 15  EDAD                   1186694 non-null  int64 \n",
            " 16  NACIONALIDAD           1186694 non-null  int64 \n",
            " 17  EMBARAZO               1186694 non-null  int64 \n",
            " 18  HABLA_LENGUA_INDIG     1186694 non-null  int64 \n",
            " 19  INDIGENA               1186694 non-null  int64 \n",
            " 20  DIABETES               1186694 non-null  int64 \n",
            " 21  EPOC                   1186694 non-null  int64 \n",
            " 22  ASMA                   1186694 non-null  int64 \n",
            " 23  INMUSUPR               1186694 non-null  int64 \n",
            " 24  HIPERTENSION           1186694 non-null  int64 \n",
            " 25  OTRA_COM               1186694 non-null  int64 \n",
            " 26  CARDIOVASCULAR         1186694 non-null  int64 \n",
            " 27  OBESIDAD               1186694 non-null  int64 \n",
            " 28  RENAL_CRONICA          1186694 non-null  int64 \n",
            " 29  TABAQUISMO             1186694 non-null  int64 \n",
            " 30  OTRO_CASO              1186694 non-null  int64 \n",
            " 31  TOMA_MUESTRA_LAB       1186694 non-null  int64 \n",
            " 32  RESULTADO_LAB          1186694 non-null  int64 \n",
            " 33  TOMA_MUESTRA_ANTIGENO  1186694 non-null  int64 \n",
            " 34  RESULTADO_ANTIGENO     1186694 non-null  int64 \n",
            " 35  CLASIFICACION_FINAL    1186694 non-null  int64 \n",
            " 36  MIGRANTE               1186694 non-null  int64 \n",
            " 37  PAIS_NACIONALIDAD      1186694 non-null  object\n",
            " 38  PAIS_ORIGEN            1186694 non-null  object\n",
            " 39  UCI                    1186694 non-null  int64 \n",
            "dtypes: int64(33), object(7)\n",
            "memory usage: 362.2+ MB\n"
          ]
        }
      ]
    },
    {
      "cell_type": "code",
      "source": [
        "df = data\n",
        "\n",
        "df = df.drop(columns=['SECTOR','MUNICIPIO_RES','HABLA_LENGUA_INDIG','ID_REGISTRO','ORIGEN','PAIS_NACIONALIDAD','PAIS_ORIGEN','INDIGENA','ENTIDAD_UM','ENTIDAD_NAC','NACIONALIDAD','ENTIDAD_RES'])\n",
        "# Lista de clasificaciones que deseas eliminar\n",
        "clasificaciones_a_eliminar = [2, 4, 5]\n",
        "\n",
        "# Filtrar el DataFrame para excluir las clasificaciones no deseadas\n",
        "df = df[~df['CLASIFICACION_FINAL'].isin(clasificaciones_a_eliminar)]\n",
        "\n",
        "df.columns\n",
        "\n",
        "df['FECHA_ACTUALIZACION'] = pd.to_datetime(df['FECHA_ACTUALIZACION'])\n",
        "df['FECHA_INGRESO'] = pd.to_datetime(df['FECHA_INGRESO'])\n",
        "df['FECHA_SINTOMAS'] = pd.to_datetime(df['FECHA_SINTOMAS'])\n",
        "df['FECHA_DEF'] = pd.to_datetime(df['FECHA_DEF'], errors='coerce')\n",
        "\n",
        "\n",
        "for col in ['TIPO_PACIENTE']:\n",
        "  df[col]=df[col].astype(str)\n",
        "\n",
        "\n",
        "from sklearn.preprocessing import LabelEncoder\n",
        "\n",
        "le = LabelEncoder()\n",
        "\n",
        "for col in ['TIPO_PACIENTE','SEXO']:\n",
        "  df[col]=le.fit_transform(df[col])\n",
        "\n",
        " #crear caracteristicas apartir de las fechas\n",
        "\n",
        "df['DIAS_DEFUNCION']=(df['FECHA_ACTUALIZACION'] - df['FECHA_DEF']).dt.days\n",
        "df['DIAS_HOSPITALIZACION']=(df['FECHA_ACTUALIZACION'] - df['FECHA_INGRESO']).dt.days\n",
        "df['DIAS_SINTOMAS']=(df['FECHA_ACTUALIZACION'] - df['FECHA_SINTOMAS']).dt.days\n",
        "\n",
        "# Red neuronal no sera compatible debido a los NAN sera necesario cambiarlo a 0\n",
        "df['DIAS_DEFUNCION']=df['DIAS_DEFUNCION'].apply(lambda x: 0 if x < 0 else x)\n",
        "\n",
        "df = df.drop(columns=['FECHA_ACTUALIZACION', 'FECHA_INGRESO', 'FECHA_SINTOMAS', 'FECHA_DEF','DIAS_DEFUNCION','MIGRANTE'])\n",
        "\n",
        "X = df.drop(columns=['CLASIFICACION_FINAL'])\n",
        "y = df['CLASIFICACION_FINAL']\n",
        "\n"
      ],
      "metadata": {
        "colab": {
          "base_uri": "https://localhost:8080/"
        },
        "id": "Sc9ZRKAzQ84j",
        "outputId": "1d3ed66e-953c-4e4e-dee8-894eedeb1854"
      },
      "execution_count": null,
      "outputs": [
        {
          "output_type": "stream",
          "name": "stderr",
          "text": [
            "<ipython-input-13-256143fdde0c>:12: SettingWithCopyWarning: \n",
            "A value is trying to be set on a copy of a slice from a DataFrame.\n",
            "Try using .loc[row_indexer,col_indexer] = value instead\n",
            "\n",
            "See the caveats in the documentation: https://pandas.pydata.org/pandas-docs/stable/user_guide/indexing.html#returning-a-view-versus-a-copy\n",
            "  df['FECHA_ACTUALIZACION'] = pd.to_datetime(df['FECHA_ACTUALIZACION'])\n"
          ]
        }
      ]
    },
    {
      "cell_type": "code",
      "source": [
        "from sklearn.model_selection import train_test_split\n",
        "\n",
        "X_train, X_test, y_train, y_test = train_test_split(X,y, test_size = 0.2, random_state = 42)\n",
        "\n"
      ],
      "metadata": {
        "id": "agKd_T_GR9cb"
      },
      "execution_count": null,
      "outputs": []
    },
    {
      "cell_type": "code",
      "source": [
        "df.info()"
      ],
      "metadata": {
        "colab": {
          "base_uri": "https://localhost:8080/"
        },
        "id": "QRKlWj8tbdfp",
        "outputId": "ddbeeb37-d655-4f35-cb5b-e16a6d3a7f63"
      },
      "execution_count": null,
      "outputs": [
        {
          "output_type": "stream",
          "name": "stdout",
          "text": [
            "<class 'pandas.core.frame.DataFrame'>\n",
            "Int64Index: 1184327 entries, 0 to 1186693\n",
            "Data columns (total 26 columns):\n",
            " #   Column                 Non-Null Count    Dtype\n",
            "---  ------                 --------------    -----\n",
            " 0   SEXO                   1184327 non-null  int64\n",
            " 1   TIPO_PACIENTE          1184327 non-null  int64\n",
            " 2   INTUBADO               1184327 non-null  int64\n",
            " 3   NEUMONIA               1184327 non-null  int64\n",
            " 4   EDAD                   1184327 non-null  int64\n",
            " 5   EMBARAZO               1184327 non-null  int64\n",
            " 6   DIABETES               1184327 non-null  int64\n",
            " 7   EPOC                   1184327 non-null  int64\n",
            " 8   ASMA                   1184327 non-null  int64\n",
            " 9   INMUSUPR               1184327 non-null  int64\n",
            " 10  HIPERTENSION           1184327 non-null  int64\n",
            " 11  OTRA_COM               1184327 non-null  int64\n",
            " 12  CARDIOVASCULAR         1184327 non-null  int64\n",
            " 13  OBESIDAD               1184327 non-null  int64\n",
            " 14  RENAL_CRONICA          1184327 non-null  int64\n",
            " 15  TABAQUISMO             1184327 non-null  int64\n",
            " 16  OTRO_CASO              1184327 non-null  int64\n",
            " 17  TOMA_MUESTRA_LAB       1184327 non-null  int64\n",
            " 18  RESULTADO_LAB          1184327 non-null  int64\n",
            " 19  TOMA_MUESTRA_ANTIGENO  1184327 non-null  int64\n",
            " 20  RESULTADO_ANTIGENO     1184327 non-null  int64\n",
            " 21  CLASIFICACION_FINAL    1184327 non-null  int64\n",
            " 22  MIGRANTE               1184327 non-null  int64\n",
            " 23  UCI                    1184327 non-null  int64\n",
            " 24  DIAS_HOSPITALIZACION   1184327 non-null  int64\n",
            " 25  DIAS_SINTOMAS          1184327 non-null  int64\n",
            "dtypes: int64(26)\n",
            "memory usage: 244.0 MB\n"
          ]
        }
      ]
    },
    {
      "cell_type": "code",
      "source": [
        "from sklearn.ensemble import RandomForestClassifier\n",
        "from sklearn.metrics import classification_report\n",
        "\n",
        "\n",
        "clf = RandomForestClassifier(random_state=42)\n",
        "clf.fit(X_train,y_train)\n",
        "y_pred = clf.predict(X_test)\n",
        "\n",
        "print(classification_report(y_test, y_pred))\n"
      ],
      "metadata": {
        "colab": {
          "base_uri": "https://localhost:8080/"
        },
        "id": "yxNcwcpcXK3v",
        "outputId": "27c3e303-4163-42fe-f731-6a42c606d929"
      },
      "execution_count": null,
      "outputs": [
        {
          "output_type": "stream",
          "name": "stdout",
          "text": [
            "              precision    recall  f1-score   support\n",
            "\n",
            "           1       0.14      0.03      0.05      1579\n",
            "           3       1.00      1.00      1.00     83925\n",
            "           6       0.97      0.97      0.97     13017\n",
            "           7       0.99      1.00      0.99    138345\n",
            "\n",
            "    accuracy                           0.99    236866\n",
            "   macro avg       0.77      0.75      0.75    236866\n",
            "weighted avg       0.99      0.99      0.99    236866\n",
            "\n"
          ]
        }
      ]
    },
    {
      "cell_type": "code",
      "source": [
        "import cuml\n",
        "\n",
        "from cuml.ensemble import RandomForestClassifier\n",
        "from sklearn.metrics import classification_report\n",
        "\n",
        "\n",
        "clf = cuml.RandomForestClassifier(random_state=42)\n",
        "X_train= X_train.astype('float32')\n",
        "y_train= y_train.astype('float32')\n",
        "\n",
        "clf.fit(X_train,y_train)\n",
        "y_pred = clf.predict(X_test)\n",
        "\n",
        "print(classification_report(y_test, y_pred))"
      ],
      "metadata": {
        "colab": {
          "base_uri": "https://localhost:8080/"
        },
        "id": "84WqtZjOilwj",
        "outputId": "ce337e8b-2a5d-4358-a766-2da1aaca1877"
      },
      "execution_count": null,
      "outputs": [
        {
          "output_type": "stream",
          "name": "stderr",
          "text": [
            "/usr/local/lib/python3.10/dist-packages/cuml/internals/api_decorators.py:344: UserWarning: For reproducible results in Random Forest Classifier or for almost reproducible results in Random Forest Regressor, n_streams=1 is recommended. If n_streams is > 1, results may vary due to stream/thread timing differences, even when random_state is set\n",
            "  return func(**kwargs)\n"
          ]
        },
        {
          "output_type": "stream",
          "name": "stdout",
          "text": [
            "              precision    recall  f1-score   support\n",
            "\n",
            "           1       0.72      0.01      0.02      1579\n",
            "           3       1.00      1.00      1.00     83925\n",
            "           6       0.97      0.97      0.97     13017\n",
            "           7       0.99      1.00      0.99    138345\n",
            "\n",
            "    accuracy                           0.99    236866\n",
            "   macro avg       0.92      0.75      0.75    236866\n",
            "weighted avg       0.99      0.99      0.99    236866\n",
            "\n"
          ]
        }
      ]
    },
    {
      "cell_type": "code",
      "source": [
        "import cuml\n",
        "\n",
        "from cuml.ensemble import RandomForestClassifier\n",
        "from cuml.neighbors import KNeighborsClassifier\n",
        "\n",
        "\n",
        "cuml_RFC = cuml.RandomForestClassifier(random_state=42)\n",
        "cuml_KNC = cuml.KNeighborsClassifier()\n",
        "\n",
        "\n",
        "classfiers = [\n",
        "    {\n",
        "        'Random Forest',cuml_RFC\n",
        "    },\n",
        "    {\n",
        "        'KNN',cuml_RFC\n",
        "    }\n",
        "\n",
        "]\n",
        "\n",
        "for name,clf in classfiers :\n",
        "  clf.fit(X_train,y_train)\n",
        "  y_pred = clf.predict(X_test)\n",
        "  print(classification_report(y_test, y_pred))"
      ],
      "metadata": {
        "colab": {
          "base_uri": "https://localhost:8080/",
          "height": 299
        },
        "id": "pQpjoNuZyO9b",
        "outputId": "69354e35-95d1-47e3-f682-48de3ac982df"
      },
      "execution_count": null,
      "outputs": [
        {
          "output_type": "stream",
          "name": "stderr",
          "text": [
            "/usr/local/lib/python3.10/dist-packages/cuml/internals/api_decorators.py:344: UserWarning: For reproducible results in Random Forest Classifier or for almost reproducible results in Random Forest Regressor, n_streams=1 is recommended. If n_streams is > 1, results may vary due to stream/thread timing differences, even when random_state is set\n",
            "  return func(**kwargs)\n"
          ]
        },
        {
          "output_type": "error",
          "ename": "AttributeError",
          "evalue": "ignored",
          "traceback": [
            "\u001b[0;31m---------------------------------------------------------------------------\u001b[0m",
            "\u001b[0;31mAttributeError\u001b[0m                            Traceback (most recent call last)",
            "\u001b[0;32m<ipython-input-18-beb2ba19b8d3>\u001b[0m in \u001b[0;36m<cell line: 21>\u001b[0;34m()\u001b[0m\n\u001b[1;32m     20\u001b[0m \u001b[0;34m\u001b[0m\u001b[0m\n\u001b[1;32m     21\u001b[0m \u001b[0;32mfor\u001b[0m \u001b[0mname\u001b[0m\u001b[0;34m,\u001b[0m\u001b[0mclf\u001b[0m \u001b[0;32min\u001b[0m \u001b[0mclassfiers\u001b[0m \u001b[0;34m:\u001b[0m\u001b[0;34m\u001b[0m\u001b[0;34m\u001b[0m\u001b[0m\n\u001b[0;32m---> 22\u001b[0;31m   \u001b[0mclf\u001b[0m\u001b[0;34m.\u001b[0m\u001b[0mfit\u001b[0m\u001b[0;34m(\u001b[0m\u001b[0mX_train\u001b[0m\u001b[0;34m,\u001b[0m\u001b[0my_train\u001b[0m\u001b[0;34m)\u001b[0m\u001b[0;34m\u001b[0m\u001b[0;34m\u001b[0m\u001b[0m\n\u001b[0m\u001b[1;32m     23\u001b[0m   \u001b[0my_pred\u001b[0m \u001b[0;34m=\u001b[0m \u001b[0mclf\u001b[0m\u001b[0;34m.\u001b[0m\u001b[0mpredict\u001b[0m\u001b[0;34m(\u001b[0m\u001b[0mX_test\u001b[0m\u001b[0;34m)\u001b[0m\u001b[0;34m\u001b[0m\u001b[0;34m\u001b[0m\u001b[0m\n\u001b[1;32m     24\u001b[0m   \u001b[0mprint\u001b[0m\u001b[0;34m(\u001b[0m\u001b[0mclassification_report\u001b[0m\u001b[0;34m(\u001b[0m\u001b[0my_test\u001b[0m\u001b[0;34m,\u001b[0m \u001b[0my_pred\u001b[0m\u001b[0;34m)\u001b[0m\u001b[0;34m)\u001b[0m\u001b[0;34m\u001b[0m\u001b[0;34m\u001b[0m\u001b[0m\n",
            "\u001b[0;31mAttributeError\u001b[0m: 'str' object has no attribute 'fit'"
          ]
        }
      ]
    },
    {
      "cell_type": "markdown",
      "source": [],
      "metadata": {
        "id": "UOqYfNFTA5-v"
      }
    },
    {
      "cell_type": "code",
      "source": [
        "import locale\n",
        "def getpreferredencoding(do_setlocale = True):\n",
        "    return \"UTF-8\"\n",
        "locale.getpreferredencoding = getpreferredencoding"
      ],
      "metadata": {
        "id": "Q81ZEB_H1ulp"
      },
      "execution_count": null,
      "outputs": []
    },
    {
      "cell_type": "code",
      "source": [
        "!pip install gradio"
      ],
      "metadata": {
        "colab": {
          "base_uri": "https://localhost:8080/"
        },
        "id": "IUdo95pB02f6",
        "outputId": "944c8f8a-959f-4e30-8a21-21e2caf74e94"
      },
      "execution_count": null,
      "outputs": [
        {
          "output_type": "stream",
          "name": "stdout",
          "text": [
            "Collecting gradio\n",
            "  Downloading gradio-4.2.0-py3-none-any.whl (15.4 MB)\n",
            "\u001b[2K     \u001b[90m━━━━━━━━━━━━━━━━━━━━━━━━━━━━━━━━━━━━━━━━\u001b[0m \u001b[32m15.4/15.4 MB\u001b[0m \u001b[31m56.0 MB/s\u001b[0m eta \u001b[36m0:00:00\u001b[0m\n",
            "\u001b[?25hCollecting aiofiles<24.0,>=22.0 (from gradio)\n",
            "  Downloading aiofiles-23.2.1-py3-none-any.whl (15 kB)\n",
            "Requirement already satisfied: altair<6.0,>=4.2.0 in /usr/local/lib/python3.10/dist-packages (from gradio) (4.2.2)\n",
            "Collecting fastapi (from gradio)\n",
            "  Downloading fastapi-0.104.1-py3-none-any.whl (92 kB)\n",
            "\u001b[2K     \u001b[90m━━━━━━━━━━━━━━━━━━━━━━━━━━━━━━━━━━━━━━━━\u001b[0m \u001b[32m92.9/92.9 kB\u001b[0m \u001b[31m14.8 MB/s\u001b[0m eta \u001b[36m0:00:00\u001b[0m\n",
            "\u001b[?25hCollecting ffmpy (from gradio)\n",
            "  Downloading ffmpy-0.3.1.tar.gz (5.5 kB)\n",
            "  Preparing metadata (setup.py) ... \u001b[?25l\u001b[?25hdone\n",
            "Collecting gradio-client==0.7.0 (from gradio)\n",
            "  Downloading gradio_client-0.7.0-py3-none-any.whl (302 kB)\n",
            "\u001b[2K     \u001b[90m━━━━━━━━━━━━━━━━━━━━━━━━━━━━━━━━━━━━━━━━\u001b[0m \u001b[32m302.7/302.7 kB\u001b[0m \u001b[31m35.8 MB/s\u001b[0m eta \u001b[36m0:00:00\u001b[0m\n",
            "\u001b[?25hCollecting httpx (from gradio)\n",
            "  Downloading httpx-0.25.1-py3-none-any.whl (75 kB)\n",
            "\u001b[2K     \u001b[90m━━━━━━━━━━━━━━━━━━━━━━━━━━━━━━━━━━━━━━━━\u001b[0m \u001b[32m75.0/75.0 kB\u001b[0m \u001b[31m11.7 MB/s\u001b[0m eta \u001b[36m0:00:00\u001b[0m\n",
            "\u001b[?25hCollecting huggingface-hub>=0.14.0 (from gradio)\n",
            "  Downloading huggingface_hub-0.19.0-py3-none-any.whl (311 kB)\n",
            "\u001b[2K     \u001b[90m━━━━━━━━━━━━━━━━━━━━━━━━━━━━━━━━━━━━━━━━\u001b[0m \u001b[32m311.2/311.2 kB\u001b[0m \u001b[31m39.1 MB/s\u001b[0m eta \u001b[36m0:00:00\u001b[0m\n",
            "\u001b[?25hRequirement already satisfied: importlib-resources<7.0,>=1.3 in /usr/local/lib/python3.10/dist-packages (from gradio) (6.1.1)\n",
            "Requirement already satisfied: jinja2<4.0 in /usr/local/lib/python3.10/dist-packages (from gradio) (3.1.2)\n",
            "Requirement already satisfied: markupsafe~=2.0 in /usr/local/lib/python3.10/dist-packages (from gradio) (2.1.3)\n",
            "Requirement already satisfied: matplotlib~=3.0 in /usr/local/lib/python3.10/dist-packages (from gradio) (3.7.1)\n",
            "Requirement already satisfied: numpy~=1.0 in /usr/local/lib/python3.10/dist-packages (from gradio) (1.23.5)\n",
            "Collecting orjson~=3.0 (from gradio)\n",
            "  Downloading orjson-3.9.10-cp310-cp310-manylinux_2_17_x86_64.manylinux2014_x86_64.whl (138 kB)\n",
            "\u001b[2K     \u001b[90m━━━━━━━━━━━━━━━━━━━━━━━━━━━━━━━━━━━━━━━━\u001b[0m \u001b[32m138.7/138.7 kB\u001b[0m \u001b[31m17.9 MB/s\u001b[0m eta \u001b[36m0:00:00\u001b[0m\n",
            "\u001b[?25hRequirement already satisfied: packaging in /usr/local/lib/python3.10/dist-packages (from gradio) (23.2)\n",
            "Requirement already satisfied: pandas<3.0,>=1.0 in /usr/local/lib/python3.10/dist-packages (from gradio) (1.5.3)\n",
            "Requirement already satisfied: pillow<11.0,>=8.0 in /usr/local/lib/python3.10/dist-packages (from gradio) (9.4.0)\n",
            "Collecting pydantic>=2.0 (from gradio)\n",
            "  Downloading pydantic-2.4.2-py3-none-any.whl (395 kB)\n",
            "\u001b[2K     \u001b[90m━━━━━━━━━━━━━━━━━━━━━━━━━━━━━━━━━━━━━━━━\u001b[0m \u001b[32m395.8/395.8 kB\u001b[0m \u001b[31m41.7 MB/s\u001b[0m eta \u001b[36m0:00:00\u001b[0m\n",
            "\u001b[?25hCollecting pydub (from gradio)\n",
            "  Downloading pydub-0.25.1-py2.py3-none-any.whl (32 kB)\n",
            "Collecting python-multipart (from gradio)\n",
            "  Downloading python_multipart-0.0.6-py3-none-any.whl (45 kB)\n",
            "\u001b[2K     \u001b[90m━━━━━━━━━━━━━━━━━━━━━━━━━━━━━━━━━━━━━━━━\u001b[0m \u001b[32m45.7/45.7 kB\u001b[0m \u001b[31m6.0 MB/s\u001b[0m eta \u001b[36m0:00:00\u001b[0m\n",
            "\u001b[?25hRequirement already satisfied: pyyaml<7.0,>=5.0 in /usr/local/lib/python3.10/dist-packages (from gradio) (6.0.1)\n",
            "Requirement already satisfied: requests~=2.0 in /usr/local/lib/python3.10/dist-packages (from gradio) (2.31.0)\n",
            "Collecting semantic-version~=2.0 (from gradio)\n",
            "  Downloading semantic_version-2.10.0-py2.py3-none-any.whl (15 kB)\n",
            "Collecting tomlkit==0.12.0 (from gradio)\n",
            "  Downloading tomlkit-0.12.0-py3-none-any.whl (37 kB)\n",
            "Requirement already satisfied: typer[all]<1.0,>=0.9 in /usr/local/lib/python3.10/dist-packages (from gradio) (0.9.0)\n",
            "Requirement already satisfied: typing-extensions~=4.0 in /usr/local/lib/python3.10/dist-packages (from gradio) (4.5.0)\n",
            "Collecting uvicorn>=0.14.0 (from gradio)\n",
            "  Downloading uvicorn-0.24.0.post1-py3-none-any.whl (59 kB)\n",
            "\u001b[2K     \u001b[90m━━━━━━━━━━━━━━━━━━━━━━━━━━━━━━━━━━━━━━━━\u001b[0m \u001b[32m59.7/59.7 kB\u001b[0m \u001b[31m6.5 MB/s\u001b[0m eta \u001b[36m0:00:00\u001b[0m\n",
            "\u001b[?25hCollecting websockets<12.0,>=10.0 (from gradio)\n",
            "  Downloading websockets-11.0.3-cp310-cp310-manylinux_2_5_x86_64.manylinux1_x86_64.manylinux_2_17_x86_64.manylinux2014_x86_64.whl (129 kB)\n",
            "\u001b[2K     \u001b[90m━━━━━━━━━━━━━━━━━━━━━━━━━━━━━━━━━━━━━━━━\u001b[0m \u001b[32m129.9/129.9 kB\u001b[0m \u001b[31m16.3 MB/s\u001b[0m eta \u001b[36m0:00:00\u001b[0m\n",
            "\u001b[?25hRequirement already satisfied: fsspec in /usr/local/lib/python3.10/dist-packages (from gradio-client==0.7.0->gradio) (2023.6.0)\n",
            "Requirement already satisfied: entrypoints in /usr/local/lib/python3.10/dist-packages (from altair<6.0,>=4.2.0->gradio) (0.4)\n",
            "Requirement already satisfied: jsonschema>=3.0 in /usr/local/lib/python3.10/dist-packages (from altair<6.0,>=4.2.0->gradio) (4.19.2)\n",
            "Requirement already satisfied: toolz in /usr/local/lib/python3.10/dist-packages (from altair<6.0,>=4.2.0->gradio) (0.12.0)\n",
            "Requirement already satisfied: filelock in /usr/local/lib/python3.10/dist-packages (from huggingface-hub>=0.14.0->gradio) (3.13.1)\n",
            "Requirement already satisfied: tqdm>=4.42.1 in /usr/local/lib/python3.10/dist-packages (from huggingface-hub>=0.14.0->gradio) (4.66.1)\n",
            "Requirement already satisfied: contourpy>=1.0.1 in /usr/local/lib/python3.10/dist-packages (from matplotlib~=3.0->gradio) (1.2.0)\n",
            "Requirement already satisfied: cycler>=0.10 in /usr/local/lib/python3.10/dist-packages (from matplotlib~=3.0->gradio) (0.12.1)\n",
            "Requirement already satisfied: fonttools>=4.22.0 in /usr/local/lib/python3.10/dist-packages (from matplotlib~=3.0->gradio) (4.44.0)\n",
            "Requirement already satisfied: kiwisolver>=1.0.1 in /usr/local/lib/python3.10/dist-packages (from matplotlib~=3.0->gradio) (1.4.5)\n",
            "Requirement already satisfied: pyparsing>=2.3.1 in /usr/local/lib/python3.10/dist-packages (from matplotlib~=3.0->gradio) (3.1.1)\n",
            "Requirement already satisfied: python-dateutil>=2.7 in /usr/local/lib/python3.10/dist-packages (from matplotlib~=3.0->gradio) (2.8.2)\n",
            "Requirement already satisfied: pytz>=2020.1 in /usr/local/lib/python3.10/dist-packages (from pandas<3.0,>=1.0->gradio) (2023.3.post1)\n",
            "Collecting annotated-types>=0.4.0 (from pydantic>=2.0->gradio)\n",
            "  Downloading annotated_types-0.6.0-py3-none-any.whl (12 kB)\n",
            "Collecting pydantic-core==2.10.1 (from pydantic>=2.0->gradio)\n",
            "  Downloading pydantic_core-2.10.1-cp310-cp310-manylinux_2_17_x86_64.manylinux2014_x86_64.whl (2.0 MB)\n",
            "\u001b[2K     \u001b[90m━━━━━━━━━━━━━━━━━━━━━━━━━━━━━━━━━━━━━━━━\u001b[0m \u001b[32m2.0/2.0 MB\u001b[0m \u001b[31m65.0 MB/s\u001b[0m eta \u001b[36m0:00:00\u001b[0m\n",
            "\u001b[?25hCollecting typing-extensions~=4.0 (from gradio)\n",
            "  Downloading typing_extensions-4.8.0-py3-none-any.whl (31 kB)\n",
            "Requirement already satisfied: charset-normalizer<4,>=2 in /usr/local/lib/python3.10/dist-packages (from requests~=2.0->gradio) (3.3.2)\n",
            "Requirement already satisfied: idna<4,>=2.5 in /usr/local/lib/python3.10/dist-packages (from requests~=2.0->gradio) (3.4)\n",
            "Requirement already satisfied: urllib3<3,>=1.21.1 in /usr/local/lib/python3.10/dist-packages (from requests~=2.0->gradio) (2.0.7)\n",
            "Requirement already satisfied: certifi>=2017.4.17 in /usr/local/lib/python3.10/dist-packages (from requests~=2.0->gradio) (2023.7.22)\n",
            "Requirement already satisfied: click<9.0.0,>=7.1.1 in /usr/local/lib/python3.10/dist-packages (from typer[all]<1.0,>=0.9->gradio) (8.1.7)\n",
            "Collecting colorama<0.5.0,>=0.4.3 (from typer[all]<1.0,>=0.9->gradio)\n",
            "  Downloading colorama-0.4.6-py2.py3-none-any.whl (25 kB)\n",
            "Collecting shellingham<2.0.0,>=1.3.0 (from typer[all]<1.0,>=0.9->gradio)\n",
            "  Downloading shellingham-1.5.4-py2.py3-none-any.whl (9.8 kB)\n",
            "Requirement already satisfied: rich<14.0.0,>=10.11.0 in /usr/local/lib/python3.10/dist-packages (from typer[all]<1.0,>=0.9->gradio) (13.6.0)\n",
            "Collecting h11>=0.8 (from uvicorn>=0.14.0->gradio)\n",
            "  Downloading h11-0.14.0-py3-none-any.whl (58 kB)\n",
            "\u001b[2K     \u001b[90m━━━━━━━━━━━━━━━━━━━━━━━━━━━━━━━━━━━━━━━━\u001b[0m \u001b[32m58.3/58.3 kB\u001b[0m \u001b[31m7.4 MB/s\u001b[0m eta \u001b[36m0:00:00\u001b[0m\n",
            "\u001b[?25hRequirement already satisfied: anyio<4.0.0,>=3.7.1 in /usr/local/lib/python3.10/dist-packages (from fastapi->gradio) (3.7.1)\n",
            "Collecting starlette<0.28.0,>=0.27.0 (from fastapi->gradio)\n",
            "  Downloading starlette-0.27.0-py3-none-any.whl (66 kB)\n",
            "\u001b[2K     \u001b[90m━━━━━━━━━━━━━━━━━━━━━━━━━━━━━━━━━━━━━━━━\u001b[0m \u001b[32m67.0/67.0 kB\u001b[0m \u001b[31m8.8 MB/s\u001b[0m eta \u001b[36m0:00:00\u001b[0m\n",
            "\u001b[?25hCollecting httpcore (from httpx->gradio)\n",
            "  Downloading httpcore-1.0.2-py3-none-any.whl (76 kB)\n",
            "\u001b[2K     \u001b[90m━━━━━━━━━━━━━━━━━━━━━━━━━━━━━━━━━━━━━━━━\u001b[0m \u001b[32m76.9/76.9 kB\u001b[0m \u001b[31m10.2 MB/s\u001b[0m eta \u001b[36m0:00:00\u001b[0m\n",
            "\u001b[?25hRequirement already satisfied: sniffio in /usr/local/lib/python3.10/dist-packages (from httpx->gradio) (1.3.0)\n",
            "Requirement already satisfied: exceptiongroup in /usr/local/lib/python3.10/dist-packages (from anyio<4.0.0,>=3.7.1->fastapi->gradio) (1.1.3)\n",
            "Requirement already satisfied: attrs>=22.2.0 in /usr/local/lib/python3.10/dist-packages (from jsonschema>=3.0->altair<6.0,>=4.2.0->gradio) (23.1.0)\n",
            "Requirement already satisfied: jsonschema-specifications>=2023.03.6 in /usr/local/lib/python3.10/dist-packages (from jsonschema>=3.0->altair<6.0,>=4.2.0->gradio) (2023.7.1)\n",
            "Requirement already satisfied: referencing>=0.28.4 in /usr/local/lib/python3.10/dist-packages (from jsonschema>=3.0->altair<6.0,>=4.2.0->gradio) (0.30.2)\n",
            "Requirement already satisfied: rpds-py>=0.7.1 in /usr/local/lib/python3.10/dist-packages (from jsonschema>=3.0->altair<6.0,>=4.2.0->gradio) (0.12.0)\n",
            "Requirement already satisfied: six>=1.5 in /usr/local/lib/python3.10/dist-packages (from python-dateutil>=2.7->matplotlib~=3.0->gradio) (1.16.0)\n",
            "Requirement already satisfied: markdown-it-py>=2.2.0 in /usr/local/lib/python3.10/dist-packages (from rich<14.0.0,>=10.11.0->typer[all]<1.0,>=0.9->gradio) (3.0.0)\n",
            "Requirement already satisfied: pygments<3.0.0,>=2.13.0 in /usr/local/lib/python3.10/dist-packages (from rich<14.0.0,>=10.11.0->typer[all]<1.0,>=0.9->gradio) (2.16.1)\n",
            "Requirement already satisfied: mdurl~=0.1 in /usr/local/lib/python3.10/dist-packages (from markdown-it-py>=2.2.0->rich<14.0.0,>=10.11.0->typer[all]<1.0,>=0.9->gradio) (0.1.2)\n",
            "Building wheels for collected packages: ffmpy\n",
            "  Building wheel for ffmpy (setup.py) ... \u001b[?25l\u001b[?25hdone\n",
            "  Created wheel for ffmpy: filename=ffmpy-0.3.1-py3-none-any.whl size=5579 sha256=a11f66e7abbcee6356066001837b9498db3c2edd4f273e3c2087cbc293843be3\n",
            "  Stored in directory: /root/.cache/pip/wheels/01/a6/d1/1c0828c304a4283b2c1639a09ad86f83d7c487ef34c6b4a1bf\n",
            "Successfully built ffmpy\n",
            "Installing collected packages: pydub, ffmpy, websockets, typing-extensions, tomlkit, shellingham, semantic-version, python-multipart, orjson, h11, colorama, annotated-types, aiofiles, uvicorn, starlette, pydantic-core, huggingface-hub, httpcore, pydantic, httpx, gradio-client, fastapi, gradio\n",
            "  Attempting uninstall: typing-extensions\n",
            "    Found existing installation: typing_extensions 4.5.0\n",
            "    Uninstalling typing_extensions-4.5.0:\n",
            "      Successfully uninstalled typing_extensions-4.5.0\n",
            "  Attempting uninstall: pydantic\n",
            "    Found existing installation: pydantic 1.10.13\n",
            "    Uninstalling pydantic-1.10.13:\n",
            "      Successfully uninstalled pydantic-1.10.13\n",
            "\u001b[31mERROR: pip's dependency resolver does not currently take into account all the packages that are installed. This behaviour is the source of the following dependency conflicts.\n",
            "lida 0.0.10 requires kaleido, which is not installed.\n",
            "llmx 0.0.15a0 requires cohere, which is not installed.\n",
            "llmx 0.0.15a0 requires openai, which is not installed.\n",
            "llmx 0.0.15a0 requires tiktoken, which is not installed.\n",
            "tensorflow-probability 0.22.0 requires typing-extensions<4.6.0, but you have typing-extensions 4.8.0 which is incompatible.\u001b[0m\u001b[31m\n",
            "\u001b[0mSuccessfully installed aiofiles-23.2.1 annotated-types-0.6.0 colorama-0.4.6 fastapi-0.104.1 ffmpy-0.3.1 gradio-4.2.0 gradio-client-0.7.0 h11-0.14.0 httpcore-1.0.2 httpx-0.25.1 huggingface-hub-0.19.0 orjson-3.9.10 pydantic-2.4.2 pydantic-core-2.10.1 pydub-0.25.1 python-multipart-0.0.6 semantic-version-2.10.0 shellingham-1.5.4 starlette-0.27.0 tomlkit-0.12.0 typing-extensions-4.8.0 uvicorn-0.24.0.post1 websockets-11.0.3\n"
          ]
        }
      ]
    },
    {
      "cell_type": "code",
      "source": [
        "import gradio as gr\n",
        "import pandas as pd\n",
        "import numpy as np\n",
        "\n",
        "\n",
        "def predict(sexo, tipo_paciente, intubado, neumonia, edad, embarazo,\n",
        "             diabetes, epoc, asma, inmusupr,\n",
        "            hipertension, otra_com, cardiovascular, obesidad,\n",
        "            renal_cronica, tabaquismo, otro_caso, toma_muestra_lab,\n",
        "            resultado_lab, toma_muestra_antigeno, resultado_antigeno,\n",
        "           uci, dias_hospitalizacion, dias_sintomas):\n",
        "\n",
        "\n",
        "    # Crea un DataFrame con los valores de entrada\n",
        "    input_data = pd.DataFrame([[\n",
        "        sexo, tipo_paciente, intubado, neumonia, edad, embarazo,\n",
        "       diabetes, epoc, asma, inmusupr,\n",
        "        hipertension, otra_com, cardiovascular, obesidad,\n",
        "        renal_cronica, tabaquismo, otro_caso, toma_muestra_lab,\n",
        "        resultado_lab, toma_muestra_antigeno, resultado_antigeno, uci, dias_hospitalizacion, dias_sintomas\n",
        "        ]], columns=[\n",
        "        'SEXO', 'TIPO_PACIENTE', 'INTUBADO', 'NEUMONIA', 'EDAD', 'EMBARAZO','DIABETES', 'EPOC',\n",
        "        'ASMA', 'INMUSUPR','HIPERTENSION', 'OTRA_COM', 'CARDIOVASCULAR', 'OBESIDAD','RENAL_CRONICA',\n",
        "        'TABAQUISMO', 'OTRO_CASO', 'TOMA_MUESTRA_LAB','RESULTADO_LAB', 'TOMA_MUESTRA_ANTIGENO',\n",
        "        'RESULTADO_ANTIGENO','UCI', 'DIAS_HOSPITALIZACION', 'DIAS_SINTOMAS'])\n",
        "\n",
        "    prediction = clf.predict(input_data)\n",
        "    return prediction\n",
        "\n",
        "\n",
        "\n",
        "\n",
        "gr.Row\n",
        "inputs = [\n",
        "    gr.Radio(choices=[0, 1], label='Sexo'),\n",
        "    gr.Radio(choices=[0, 1], label='Tipo de Paciente'),\n",
        "    gr.Radio(choices=[0, 1, 97, 98, 99], label='Intubado'),\n",
        "    gr.Radio(choices=[0, 1, 97, 98, 99], label='Neumonía'),\n",
        "    gr.Slider(minimum=0, maximum=120, value=30, label='Edad'),\n",
        "    gr.Radio(choices=[1, 2, 97, 98, 99], label='Embarazo'),\n",
        "    gr.Radio(choices=[1, 2, 98], label='Diabetes'),\n",
        "    gr.Radio(choices=[1, 2, 98], label='EPOC'),\n",
        "    gr.Radio(choices=[1, 2, 98], label='Asma'),\n",
        "    gr.Radio(choices=[1, 2, 98], label='Inmunosupresión'),\n",
        "    gr.Radio(choices=[1, 2, 98], label='Hipertensión'),\n",
        "    gr.Radio(choices=[1, 2, 98], label='Otra Comorbilidad'),\n",
        "    gr.Radio(choices=[1, 2, 98], label='Cardiovascular'),\n",
        "    gr.Radio(choices=[1, 2, 98], label='Obesidad'),\n",
        "    gr.Radio(choices=[1, 2, 98], label='Enfermedad Renal Crónica'),\n",
        "    gr.Radio(choices=[1, 2, 98], label='Tabaquismo'),\n",
        "    gr.Radio(choices=[1, 2, 99], label='Contacto con otro caso'),\n",
        "    gr.Radio(choices=[1, 2, 98], label='Toma de muestra de laboratorio'),\n",
        "    gr.Radio(choices=[1, 2, 97, 98, 99], label='Resultado de laboratorio'),\n",
        "    gr.Radio(choices=[1, 2, 98], label='Toma de muestra de antígeno'),\n",
        "    gr.Radio(choices=[1, 2, 97, 98, 99], label='Resultado de antígeno'),\n",
        "    gr.Radio(choices=[1, 2, 97, 98, 99], label='UCI'),\n",
        "    gr.Number(label='Días de Hospitalización',value=0),\n",
        "    gr.Number(label='Días con Síntomas',value=0),\n",
        "]\n",
        "\n",
        "# Crear componente de salida para Gradio\n",
        "outputs = gr.Textbox(label=\"Predicción\")\n",
        "\n",
        "# Crear la interfaz de Gradio\n",
        "demo = gr.Interface(fn=predict, inputs=inputs, outputs=outputs)\n",
        "\n",
        "# Ejecutar la aplicación web\n",
        "if __name__ == \"__main__\":\n",
        "    demo.launch(show_api=False,debug=True)"
      ],
      "metadata": {
        "colab": {
          "base_uri": "https://localhost:8080/",
          "height": 680
        },
        "id": "rPngNumk16ub",
        "outputId": "bba1eb87-4666-4120-b46d-904cb300c666"
      },
      "execution_count": null,
      "outputs": [
        {
          "output_type": "stream",
          "name": "stdout",
          "text": [
            "Setting queue=True in a Colab notebook requires sharing enabled. Setting `share=True` (you can turn this off by setting `share=False` in `launch()` explicitly).\n",
            "\n",
            "Colab notebook detected. This cell will run indefinitely so that you can see errors and logs. To turn off, set debug=False in launch().\n",
            "Running on public URL: https://4fb84e6801def0715d.gradio.live\n",
            "\n",
            "This share link expires in 72 hours. For free permanent hosting and GPU upgrades, run `gradio deploy` from Terminal to deploy to Spaces (https://huggingface.co/spaces)\n"
          ]
        },
        {
          "output_type": "display_data",
          "data": {
            "text/plain": [
              "<IPython.core.display.HTML object>"
            ],
            "text/html": [
              "<div><iframe src=\"https://4fb84e6801def0715d.gradio.live\" width=\"100%\" height=\"500\" allow=\"autoplay; camera; microphone; clipboard-read; clipboard-write;\" frameborder=\"0\" allowfullscreen></iframe></div>"
            ]
          },
          "metadata": {}
        },
        {
          "output_type": "stream",
          "name": "stdout",
          "text": [
            "Keyboard interruption in main thread... closing server.\n",
            "Killing tunnel 127.0.0.1:7860 <> https://4fb84e6801def0715d.gradio.live\n"
          ]
        }
      ]
    }
  ]
}